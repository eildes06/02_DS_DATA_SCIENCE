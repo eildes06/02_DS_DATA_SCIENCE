{
  "nbformat": 4,
  "nbformat_minor": 0,
  "metadata": {
    "colab": {
      "provenance": [],
      "collapsed_sections": [
        "kTh5Lxpm4TjA",
        "lNW-eRkj4Uju"
      ],
      "include_colab_link": true
    },
    "kernelspec": {
      "name": "python3",
      "display_name": "Python 3"
    },
    "language_info": {
      "name": "python"
    }
  },
  "cells": [
    {
      "cell_type": "markdown",
      "metadata": {
        "id": "view-in-github",
        "colab_type": "text"
      },
      "source": [
        "<a href=\"https://colab.research.google.com/github/eildes06/02_DS_DATA_SCIENCE/blob/main/DizaynVIP_AI_SE_23_Questions.ipynb\" target=\"_parent\"><img src=\"https://colab.research.google.com/assets/colab-badge.svg\" alt=\"Open In Colab\"/></a>"
      ]
    },
    {
      "cell_type": "markdown",
      "source": [
        "# AI SOFTWARE ENGINEER – Interview Questions\n",
        "## [DizaynVIP Technology - Dizzy Assistant]"
      ],
      "metadata": {
        "id": "tXjA82oW3lNQ"
      }
    },
    {
      "cell_type": "markdown",
      "source": [
        "---\n",
        "\n",
        "\n",
        "> **Note:** You have <font color='green'>**130 minutes**</font> to solve the \n",
        "- 1 coding question (must be solved in python), \n",
        "- and 1 question to test your ML knowledge, \n",
        "- and 1 question to test your debugging and OOP skills.\n",
        "\n",
        "---\n"
      ],
      "metadata": {
        "id": "yMgKiB3VnPL6"
      }
    },
    {
      "cell_type": "markdown",
      "source": [
        "**Make a copy of this notebook. rename it as your name and then you can start solving the questions.**\n",
        "\n",
        "**When you finish or the time is up, download the notebook (File > Download -> as .ipynb) and send it to m.fares@dizaynvip.com**"
      ],
      "metadata": {
        "id": "S2u9gMDzMN-y"
      }
    },
    {
      "cell_type": "markdown",
      "source": [
        "`Question 1` will be evaluated based on the following points:\n",
        "1. Code efficiency (low time and memory complexity). (2.5 points)\n",
        "2. Code readability. (2 points)\n",
        "3. Code consistency (naming convention). (0.5 points)\n",
        "\n",
        "`Question 2` will be evaluated based on the following points:\n",
        "1. Correct choices. (1 point)\n",
        "2. Expaining why (9 point)\n",
        "\n",
        "`Question 3` will be evaluated based on the correct implementation of the requirements. (5 points)\n",
        "\n",
        "GOOD LUCK!"
      ],
      "metadata": {
        "id": "Jh27_I9r4IVh"
      }
    },
    {
      "cell_type": "markdown",
      "source": [
        "### Question 1:\n"
      ],
      "metadata": {
        "id": "kTh5Lxpm4TjA"
      }
    },
    {
      "cell_type": "markdown",
      "source": [
        "Write a code that implement the following algorithm:\n",
        "\n",
        "Given a string of integer numbers, and a number to be searched (key).\n",
        "\n",
        "Sort the given integer numbers of the string in ascending order and search for the given number among the \n",
        "integers, after the string integers has been sorted."
      ],
      "metadata": {
        "id": "XkBOeupQBdeO"
      }
    },
    {
      "cell_type": "markdown",
      "source": [
        "#### Check Points:\n",
        "\n"
      ],
      "metadata": {
        "id": "T4IIn1pp43TA"
      }
    },
    {
      "cell_type": "markdown",
      "source": [
        "1- The function should return a sorted numbers as a string.\n",
        "\n",
        "2- The index of the given number among the sorted numbers should be added to the end of the string, if\n",
        "the given number is not found among the string numbers nothing is inserted to the end of the string.\n",
        "\n",
        "3- The string numbers may contain repeated integers.\n",
        "\n",
        "4- The given integer number may be more than one digit."
      ],
      "metadata": {
        "id": "1KjsggSaCOL3"
      }
    },
    {
      "cell_type": "markdown",
      "source": [
        "\n",
        "\n",
        "---\n",
        "\n",
        "\n",
        "> <font color='red'>**Note:** Using ready function to sort the elements or getting the index of the given number is not allowed. Such as `sorted`, `index` functions or equivelent functions.</font>\n",
        "\n",
        "---\n",
        "\n"
      ],
      "metadata": {
        "id": "1HY_ixDf7QrL"
      }
    },
    {
      "cell_type": "code",
      "source": [
        "def question1(nums: str, key: int) -> str:\n",
        "  # your code here\n",
        "  "
      ],
      "metadata": {
        "id": "HQMf9xrb4vNl"
      },
      "execution_count": null,
      "outputs": []
    },
    {
      "cell_type": "markdown",
      "source": [
        "**execution time limit (max): 1 second (python version 3.x)**"
      ],
      "metadata": {
        "id": "Jp5ytyRt6-Cq"
      }
    },
    {
      "cell_type": "markdown",
      "source": [
        "####Question 1 Tests "
      ],
      "metadata": {
        "id": "lNW-eRkj4Uju"
      }
    },
    {
      "cell_type": "markdown",
      "source": [
        "Test Execution Time"
      ],
      "metadata": {
        "id": "S3WDPeowlfJt"
      }
    },
    {
      "cell_type": "code",
      "source": [
        "%timeit question1(\"5549214222\", 0)"
      ],
      "metadata": {
        "id": "0rwM2nUm4Kic"
      },
      "execution_count": null,
      "outputs": []
    },
    {
      "cell_type": "markdown",
      "source": [
        "Test `question1` function"
      ],
      "metadata": {
        "id": "C3L2AoQHlynb"
      }
    },
    {
      "cell_type": "code",
      "source": [
        "print(question1(\"21463\", 5) == \"12346\")\n",
        "print(question1(\"48930\", 8) == \"034893\")\n",
        "print(question1(\"11111\", 1) == \"111110\")\n",
        "print(question1(\"123456\", 8) == \"123456\")\n",
        "print(question1(\"123456\", 2) == \"1234561\")\n",
        "print(question1(\"879301\", 3) == \"0137892\")\n",
        "print(question1(\"555555\", 55) == \"5555550\")\n",
        "print(question1(\"5549214222\", 0) == \"1222244559\")\n",
        "print(question1(\"7879878454\", 77) == \"44577788893\")\n",
        "print(question1(\"7879878454\", 377) == \"4457778889\")"
      ],
      "metadata": {
        "id": "ToFrHKLM5_O-"
      },
      "execution_count": null,
      "outputs": []
    },
    {
      "cell_type": "markdown",
      "source": [
        "### Question 2: \n"
      ],
      "metadata": {
        "id": "AMfJPHdumIvo"
      }
    },
    {
      "cell_type": "markdown",
      "source": [
        "You are trying to learn how Convolutional Neural Networks work, so you decided to copy an online Keras example to start from somewhere.\n",
        "Here is the core of the code you put together:"
      ],
      "metadata": {
        "id": "bIzdzWJD5wPN"
      }
    },
    {
      "cell_type": "markdown",
      "source": [
        "```\n",
        "model = keras.Sequential([\n",
        "    keras.Input(shape=(28, 28, 1)),\n",
        "    layers.Conv2D(32, kernel_size=(3, 3), activation=\"relu\"),\n",
        "    layers.MaxPooling2D(pool_size=(2, 2)),\n",
        "    layers.Conv2D(64, kernel_size=(3, 3), activation=\"relu\"),\n",
        "    layers.MaxPooling2D(pool_size=(2, 2)),\n",
        "    layers.Flatten(),\n",
        "    layers.Dropout(0.5),\n",
        "    layers.Dense(10, activation=\"softmax\"),\n",
        "])\n",
        "```\n",
        "**Based on the above code fragment, what are the correct statements regarding each layer's parameters (weights and biases)?**\n",
        "\n",
        "A) The first convolutional layer has a total of 21,632 parameters.\n",
        "\n",
        "B) The first max pooling layer has a total of 5,408 parameters.\n",
        "\n",
        "C) The second convolutional layer has a total of 18,496 parameters.\n",
        "\n",
        "D) The fully-connected layer has a total of 16,010 parameters.\n"
      ],
      "metadata": {
        "id": "XZP9j_to8HdB"
      }
    },
    {
      "cell_type": "markdown",
      "source": [
        "Your answer (please explain why):\n",
        "\n",
        ".."
      ],
      "metadata": {
        "id": "gWzTgX2h9m97"
      }
    },
    {
      "cell_type": "markdown",
      "source": [
        "### Question 3: "
      ],
      "metadata": {
        "id": "GGXEc4PX-8TQ"
      }
    },
    {
      "cell_type": "markdown",
      "source": [
        "Design and implement a system for a car rental company. The system should keep track of available cars, rented cars, and customers.\n",
        "\n",
        "- Implement a class that represents a car, it should contain properties such as make, model, and rental status of the car.\n",
        "\n",
        "- Implement a class that represents a customer, it should contain properties such as name, ID, and rental history of the customer.\n",
        "\n",
        "- Create a class that acts as an interface to hide the complexity of the system and provide a simplified way to interact with it. This class should have methods for renting a car, returning a car, and checking the availability of cars.\n",
        "\n",
        " Ensure that only one instance of the class that acts as an interface can be created."
      ],
      "metadata": {
        "id": "xj70F01GAijf"
      }
    },
    {
      "cell_type": "markdown",
      "source": [
        "**The bellow code in an implimintation of the past question:**"
      ],
      "metadata": {
        "id": "erj8Lom6kuM7"
      }
    },
    {
      "cell_type": "code",
      "source": [
        "class Car:\n",
        "    def __init__(self, make, model):\n",
        "        self.make = make\n",
        "        self.model = model\n",
        "        self.status = \"a\"\n",
        "        \n",
        "    def rent(self):\n",
        "        if self.status == \"a\":\n",
        "            return True\n",
        "        return False\n",
        "    \n",
        "    def return_car(self):\n",
        "        if self.status == \"r\":\n",
        "            return True\n",
        "        return False\n",
        "\n",
        "\n",
        "class Customer:\n",
        "    def __init__(self, name, ID):\n",
        "        self.name = name\n",
        "        self.ID = ID\n",
        "        self.rental_history = []\n",
        "        \n",
        "    def rent_car(self, car):\n",
        "        if car.rent():\n",
        "            self.rental_history.append(car)\n",
        "            return True\n",
        "        return False\n",
        "    \n",
        "    def return_car(self, car):\n",
        "        if car in self.rental_history:\n",
        "            self.rental_history.remove(car)\n",
        "            car.return_car()\n",
        "            return True\n",
        "        return False\n",
        "\n",
        "\n",
        "class RentalSystem:\n",
        "    def __init__(self):\n",
        "        self.cars = []\n",
        "        self.customers = []\n",
        "\n",
        "    def rent_car(self, car, customer):\n",
        "        if car in self.cars and customer in self.customers:\n",
        "            return customer.rent_car(car)\n",
        "        return False\n",
        "    \n",
        "    def return_car(self, car, customer):\n",
        "        if car in self.cars and customer in self.customers:\n",
        "            return customer.return_car(car)\n",
        "        return False\n",
        "    \n",
        "    def add_car(self, car):\n",
        "        self.cars.append(car)\n",
        "        \n",
        "    def add_customer(self, customer):\n",
        "        self.customers.append(customer)\n",
        "        \n",
        "    def check_availability(self):\n",
        "        available_cars = [car for car in self.cars if car.status == \"a\"]\n",
        "        return available_cars"
      ],
      "metadata": {
        "id": "SZS2q6YBcHp3"
      },
      "execution_count": null,
      "outputs": []
    },
    {
      "cell_type": "markdown",
      "source": [
        "As you can see, the code is ready for you.. Almost :) \n",
        "\n",
        "Unfortunately, it fails the tests below. \n",
        "\n",
        "**Please trace the errors, fix them. \n",
        "Make sure you look back at the requirements to ensure the implementation matches what is required.**"
      ],
      "metadata": {
        "id": "_I2REtc7gk0i"
      }
    },
    {
      "cell_type": "markdown",
      "source": [
        "#### Test "
      ],
      "metadata": {
        "id": "TSjlLCTsfnSb"
      }
    },
    {
      "cell_type": "code",
      "source": [
        "# Create a car\n",
        "car1 = Car(\"Toyota\", \"Camry\")\n",
        "car2 = Car(\"BMW\", \"M3\")\n",
        "# Create a customer\n",
        "customer1 = Customer(\"John Smith\", \"12345\")\n",
        "customer2 = Customer(\"Jane Doe\", \"67890\")\n",
        "# Create a rental system\n",
        "rental_system = RentalSystem()\n",
        "\n",
        "# Add cars and customers to the system\n",
        "rental_system.add_car(car1)\n",
        "rental_system.add_car(car2)\n",
        "rental_system.add_customer(customer1)\n",
        "rental_system.add_customer(customer2)\n",
        "\n",
        "# Test the rent_car method\n",
        "assert rental_system.rent_car(car1, customer1) == True\n",
        "assert rental_system.rent_car(car2, customer2) == True\n",
        "assert rental_system.rent_car(car1, customer2) == False\n",
        "assert rental_system.rent_car(car2, customer1) == False\n",
        "\n",
        "# Test the return_car method\n",
        "assert rental_system.return_car(car1, customer1) == True\n",
        "assert rental_system.return_car(car2, customer2) == True\n",
        "assert rental_system.return_car(car1, customer2) == False\n",
        "assert rental_system.return_car(car2, customer1) == False\n",
        "\n",
        "# Test the check_availability method\n",
        "assert rental_system.check_availability() == [car1, car2]\n",
        "\n",
        "# Test that the singleton pattern is applied\n",
        "assert rental_system == RentalSystem()"
      ],
      "metadata": {
        "id": "SDhXyYNjcIgm"
      },
      "execution_count": null,
      "outputs": []
    }
  ]
}