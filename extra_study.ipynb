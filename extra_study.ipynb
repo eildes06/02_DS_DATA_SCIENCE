{
  "nbformat": 4,
  "nbformat_minor": 0,
  "metadata": {
    "colab": {
      "provenance": [],
      "authorship_tag": "ABX9TyM7LOfQHd14Y5xWviTClzV/",
      "include_colab_link": true
    },
    "kernelspec": {
      "name": "python3",
      "display_name": "Python 3"
    },
    "language_info": {
      "name": "python"
    }
  },
  "cells": [
    {
      "cell_type": "markdown",
      "metadata": {
        "id": "view-in-github",
        "colab_type": "text"
      },
      "source": [
        "<a href=\"https://colab.research.google.com/github/eildes06/02_DS_DATA_SCIENCE/blob/main/extra_study.ipynb\" target=\"_parent\"><img src=\"https://colab.research.google.com/assets/colab-badge.svg\" alt=\"Open In Colab\"/></a>"
      ]
    },
    {
      "cell_type": "code",
      "execution_count": null,
      "metadata": {
        "id": "ZQstY3ooXWUn"
      },
      "outputs": [],
      "source": [
        "a=[1,2,3,4]\n",
        "b=[2,3,4,5]\n",
        "ab=[]"
      ]
    },
    {
      "cell_type": "code",
      "source": [
        "range(0,len(a))\n",
        "\n",
        "for i in range(0,len(a)):\n",
        "  ab.append(a[i]*b[i])\n",
        "\n",
        "ab"
      ],
      "metadata": {
        "colab": {
          "base_uri": "https://localhost:8080/"
        },
        "id": "DjnksBIfXk5i",
        "outputId": "dc9bc239-fa01-435d-8f44-80e6f6ef847a"
      },
      "execution_count": null,
      "outputs": [
        {
          "output_type": "execute_result",
          "data": {
            "text/plain": [
              "[2, 6, 12, 20]"
            ]
          },
          "metadata": {},
          "execution_count": 4
        }
      ]
    },
    {
      "cell_type": "code",
      "source": [
        "# mesela ayniisi vektorel operasyon ile degil de libries ile de yapabilirz\n",
        "\n",
        "import numpy as np\n",
        "a=np.array([1,2,3,4])\n",
        "b=np.array([2,3,4,5])\n",
        "\n",
        "a*b"
      ],
      "metadata": {
        "colab": {
          "base_uri": "https://localhost:8080/"
        },
        "id": "w2eDa3ZQXk22",
        "outputId": "7ac8ae91-a59a-43d7-e93e-06e19b585fc7"
      },
      "execution_count": null,
      "outputs": [
        {
          "output_type": "execute_result",
          "data": {
            "text/plain": [
              "array([ 2,  6, 12, 20])"
            ]
          },
          "metadata": {},
          "execution_count": 5
        }
      ]
    },
    {
      "cell_type": "code",
      "source": [
        "#sort for second one\n",
        "\n",
        "lysk =[(\"k\",3),(\"e\",7),(\"o\",0),(\"z\",9)]\n",
        "lysk\n",
        "\n",
        "sorted(lysk,key= lambda x:x[1])"
      ],
      "metadata": {
        "colab": {
          "base_uri": "https://localhost:8080/"
        },
        "id": "zS_uuSInXkzu",
        "outputId": "3a77d8ca-26a9-4e49-a38d-4f22c7560a1c"
      },
      "execution_count": null,
      "outputs": [
        {
          "output_type": "execute_result",
          "data": {
            "text/plain": [
              "[('o', 0), ('k', 3), ('e', 7), ('z', 9)]"
            ]
          },
          "metadata": {},
          "execution_count": 7
        }
      ]
    },
    {
      "cell_type": "code",
      "source": [
        "liste =[1,2,3,4,5]\n",
        "\n",
        "for i in liste: \n",
        "  print(i+15)\n",
        "\n",
        "\n",
        "list(map(lambda x: x*10,liste))"
      ],
      "metadata": {
        "colab": {
          "base_uri": "https://localhost:8080/"
        },
        "id": "4t7SkfvQtEkd",
        "outputId": "20ff76c9-ef59-4cde-af05-3efe3403d3ae"
      },
      "execution_count": null,
      "outputs": [
        {
          "output_type": "stream",
          "name": "stdout",
          "text": [
            "16\n",
            "17\n",
            "18\n",
            "19\n",
            "20\n"
          ]
        },
        {
          "output_type": "execute_result",
          "data": {
            "text/plain": [
              "[10, 20, 30, 40, 50]"
            ]
          },
          "metadata": {},
          "execution_count": 10
        }
      ]
    },
    {
      "cell_type": "code",
      "source": [
        "#filter\n",
        "\n",
        "liske=[1,2,3,4,5,6,7,8,9]\n",
        "list(filter(lambda x:x%2==0,liske))"
      ],
      "metadata": {
        "colab": {
          "base_uri": "https://localhost:8080/"
        },
        "id": "h0ChgEoBtEhf",
        "outputId": "f05ce524-ac16-4585-ded4-6a3b4549d0c4"
      },
      "execution_count": null,
      "outputs": [
        {
          "output_type": "execute_result",
          "data": {
            "text/plain": [
              "[2, 4, 6, 8]"
            ]
          },
          "metadata": {},
          "execution_count": 11
        }
      ]
    },
    {
      "cell_type": "code",
      "source": [
        "list(filter(lambda x:x%2!=0,liske))"
      ],
      "metadata": {
        "colab": {
          "base_uri": "https://localhost:8080/"
        },
        "id": "vEz3vqKktEeF",
        "outputId": "0f732a9c-bf64-4a90-a886-c5eda6cc7cb3"
      },
      "execution_count": null,
      "outputs": [
        {
          "output_type": "execute_result",
          "data": {
            "text/plain": [
              "[1, 3, 5, 7, 9]"
            ]
          },
          "metadata": {},
          "execution_count": 12
        }
      ]
    },
    {
      "cell_type": "code",
      "source": [],
      "metadata": {
        "id": "KjxpaAbNtEa5"
      },
      "execution_count": null,
      "outputs": []
    },
    {
      "cell_type": "code",
      "source": [
        "#reduce\n",
        "\n",
        "from functools import reduce\n",
        "reduce(lambda a,b :a+b,liske)"
      ],
      "metadata": {
        "colab": {
          "base_uri": "https://localhost:8080/"
        },
        "id": "4ycm0-N8uCmK",
        "outputId": "f8a678db-29ad-4141-ca6f-af89b2d566f6"
      },
      "execution_count": null,
      "outputs": [
        {
          "output_type": "execute_result",
          "data": {
            "text/plain": [
              "45"
            ]
          },
          "metadata": {},
          "execution_count": 13
        }
      ]
    },
    {
      "cell_type": "code",
      "source": [],
      "metadata": {
        "id": "fzpb517XuCi9"
      },
      "execution_count": null,
      "outputs": []
    },
    {
      "cell_type": "code",
      "source": [],
      "metadata": {
        "id": "9-j7cBvAuCfM"
      },
      "execution_count": null,
      "outputs": []
    }
  ]
}