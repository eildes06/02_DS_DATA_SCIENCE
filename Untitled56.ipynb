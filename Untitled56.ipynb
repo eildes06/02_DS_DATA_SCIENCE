{
  "nbformat": 4,
  "nbformat_minor": 0,
  "metadata": {
    "colab": {
      "provenance": [],
      "authorship_tag": "ABX9TyNrhqnpZ89HhGviHAen16Dp",
      "include_colab_link": true
    },
    "kernelspec": {
      "name": "python3",
      "display_name": "Python 3"
    },
    "language_info": {
      "name": "python"
    }
  },
  "cells": [
    {
      "cell_type": "markdown",
      "metadata": {
        "id": "view-in-github",
        "colab_type": "text"
      },
      "source": [
        "<a href=\"https://colab.research.google.com/github/eildes06/02_DS_DATA_SCIENCE/blob/main/Untitled56.ipynb\" target=\"_parent\"><img src=\"https://colab.research.google.com/assets/colab-badge.svg\" alt=\"Open In Colab\"/></a>"
      ]
    },
    {
      "cell_type": "code",
      "source": [
        "!pip install termocolor"
      ],
      "metadata": {
        "colab": {
          "base_uri": "https://localhost:8080/"
        },
        "id": "Y6QeiV6zEFvU",
        "outputId": "22dc7828-ffa4-4a1f-d11d-0a97c0cc201c"
      },
      "execution_count": 2,
      "outputs": [
        {
          "output_type": "stream",
          "name": "stdout",
          "text": [
            "Looking in indexes: https://pypi.org/simple, https://us-python.pkg.dev/colab-wheels/public/simple/\n",
            "\u001b[31mERROR: Could not find a version that satisfies the requirement termocolor (from versions: none)\u001b[0m\n",
            "\u001b[31mERROR: No matching distribution found for termocolor\u001b[0m\n"
          ]
        }
      ]
    },
    {
      "cell_type": "code",
      "execution_count": 3,
      "metadata": {
        "id": "AehhJBvRDnnJ"
      },
      "outputs": [],
      "source": [
        "from termcolor import colored\n"
      ]
    },
    {
      "cell_type": "code",
      "source": [
        "print(colored(\"~~~rainbow~~~\",\"red\"))"
      ],
      "metadata": {
        "colab": {
          "base_uri": "https://localhost:8080/"
        },
        "id": "ix0A5JAaDu9M",
        "outputId": "ffe8f517-2619-4f96-8ad3-9d810f22d561"
      },
      "execution_count": 4,
      "outputs": [
        {
          "output_type": "stream",
          "name": "stdout",
          "text": [
            "\u001b[31m~~~rainbow~~~\u001b[0m\n"
          ]
        }
      ]
    },
    {
      "cell_type": "code",
      "source": [
        "print(colored(\"~~~rainbow~~~\",\"red\"))\n",
        "print(colored(\"~~~rainbow~~~\",\"yellow\"))\n",
        "print(colored(\"~~~rainbow~~~\",\"cyan\"))\n",
        "print(colored(\"~~~rainbow~~~\",\"green\"))\n",
        "\n",
        "print(colored(\"~~~rainbow~~~\",\"red\"))\n",
        "\n",
        "\n",
        "print(colored(\"~~~rainbow~~~\",\"white\"))\n",
        "\n",
        "print(colored(\"~~~rainbow~~~\",\"red\"))\n",
        "print(colored(\"~~~rainbow~~~\",\"blue\"))\n",
        "print(colored(\"~~~rainbow~~~\",\"cyan\"))\n",
        "print(colored(\"~~~rainbow~~~\",\"green\"))\n",
        "print(colored(\"~~~rainbow~~~\",\"magenta\"))\n",
        "\n",
        "\n"
      ],
      "metadata": {
        "colab": {
          "base_uri": "https://localhost:8080/"
        },
        "id": "nh7tbvm0ERSH",
        "outputId": "a95fe88f-a571-4e43-8e61-f673590b7a3c"
      },
      "execution_count": 9,
      "outputs": [
        {
          "output_type": "stream",
          "name": "stdout",
          "text": [
            "\u001b[31m~~~rainbow~~~\u001b[0m\n",
            "\u001b[33m~~~rainbow~~~\u001b[0m\n",
            "\u001b[36m~~~rainbow~~~\u001b[0m\n",
            "\u001b[32m~~~rainbow~~~\u001b[0m\n",
            "\u001b[31m~~~rainbow~~~\u001b[0m\n",
            "\u001b[37m~~~rainbow~~~\u001b[0m\n",
            "\u001b[31m~~~rainbow~~~\u001b[0m\n",
            "\u001b[34m~~~rainbow~~~\u001b[0m\n",
            "\u001b[36m~~~rainbow~~~\u001b[0m\n",
            "\u001b[32m~~~rainbow~~~\u001b[0m\n",
            "\u001b[35m~~~rainbow~~~\u001b[0m\n"
          ]
        }
      ]
    },
    {
      "cell_type": "code",
      "source": [],
      "metadata": {
        "id": "jAUoh8BMERPb"
      },
      "execution_count": null,
      "outputs": []
    },
    {
      "cell_type": "code",
      "source": [],
      "metadata": {
        "id": "Klup2MXEERMT"
      },
      "execution_count": null,
      "outputs": []
    },
    {
      "cell_type": "code",
      "source": [],
      "metadata": {
        "id": "94K7lMDXERJV"
      },
      "execution_count": null,
      "outputs": []
    },
    {
      "cell_type": "code",
      "source": [],
      "metadata": {
        "id": "bfEo5hq8ERGJ"
      },
      "execution_count": null,
      "outputs": []
    }
  ]
}